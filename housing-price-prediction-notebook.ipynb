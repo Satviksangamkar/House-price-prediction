{
 "cells": [
  {
   "cell_type": "markdown",
   "metadata": {},
   "source": [
    "# Housing Price Prediction\n",
    "\n",
    "In this notebook, we'll go through the process of loading, exploring, and analyzing a housing dataset. We will perform linear regression using both scikit-learn and statsmodels libraries.\n",
    "\n",
    "## 1. Import Libraries\n",
    "Let's start by importing the necessary libraries for data manipulation, visualization, and modeling."
   ]
  },
  {
   "cell_type": "code",
   "execution_count": null,
   "metadata": {},
   "outputs": [],
   "source": [
    "import pandas as pd\n",
    "import numpy as np\n",
    "import matplotlib.pyplot as plt"
   ]
  },
  {
   "cell_type": "markdown",
   "metadata": {},
   "source": [
    "## 2. Load Data\n",
    "Load the housing data from a CSV file and inspect its basic structure."
   ]
  },
  {
   "cell_type": "code",
   "execution_count": null,
   "metadata": {},
   "outputs": [],
   "source": [
    "housing = pd.read_csv('housing.csv')\n",
    "housing.shape\n",
    "housing.head()"
   ]
  },
  {
   "cell_type": "markdown",
   "metadata": {},
   "source": [
    "## 3. Data Exploration\n",
    "Explore the data to understand its structure, check for missing values, and view distributions of categorical variables."
   ]
  },
  {
   "cell_type": "code",
   "execution_count": null,
   "metadata": {},
   "outputs": [],
   "source": [
    "housing.info()"
   ]
  },
  {
   "cell_type": "code",
   "execution_count": null,
   "metadata": {},
   "outputs": [],
   "source": [
    "housing[\"ocean_proximity\"].value_counts()"
   ]
  },
  {
   "cell_type": "markdown",
   "metadata": {},
   "source": [
    "## 4. Descriptive Statistics and Visualization\n",
    "Generate summary statistics and visualize the data using histograms and scatter plots."
   ]
  },
  {
   "cell_type": "code",
   "execution_count": null,
   "metadata": {},
   "outputs": [],
   "source": [
    "housing.describe()"
   ]
  },
  {
   "cell_type": "code",
   "execution_count": null,
   "metadata": {},
   "outputs": [],
   "source": [
    "housing.hist(bins=50, figsize=(20,15))"
   ]
  },
  {
   "cell_type": "code",
   "execution_count": null,
   "metadata": {},
   "outputs": [],
   "source": [
    "housing.plot(kind=\"scatter\", x=\"longitude\", y=\"latitude\", \n",
    "             alpha=0.1, s=housing[\"population\"] / 100, label=\"population\",\n",
    "            c=\"median_house_value\", cmap=plt.get_cmap(\"jet\"))"
   ]
  },
  {
   "cell_type": "markdown",
   "metadata": {},
   "source": [
    "## 5. Data Cleaning\n",
    "Handle missing values and convert categorical variables into dummy variables."
   ]
  },
  {
   "cell_type": "code",
   "execution_count": null,
   "metadata": {},
   "outputs": [],
   "source": [
    "non_numeric_columns = housing.select_dtypes(exclude=['float64', 'int64']).columns\n",
    "print(non_numeric_columns)"
   ]
  },
  {
   "cell_type": "code",
   "execution_count": null,
   "metadata": {},
   "outputs": [],
   "source": [
    "housing_numeric = housing.drop('ocean_proximity', axis=1)\n",
    "corr_matrix = housing_numeric.corr()\n",
    "print(corr_matrix)"
   ]
  },
  {
   "cell_type": "code",
   "execution_count": null,
   "metadata": {},
   "outputs": [],
   "source": [
    "corr_matrix = housing_numeric.corr()\n",
    "corr_matrix[\"median_house_value\"].sort_values(ascending=False)"
   ]
  },
  {
   "cell_type": "code",
   "execution_count": null,
   "metadata": {},
   "outputs": [],
   "source": [
    "housing_na = housing.dropna(subset=[\"total_bedrooms\"])\n",
    "housing_na.shape"
   ]
  },
  {
   "cell_type": "code",
   "execution_count": null,
   "metadata": {},
   "outputs": [],
   "source": [
    "dummies = pd.get_dummies(housing_na.ocean_proximity)\n",
    "dummies.head()"
   ]
  },
  {
   "cell_type": "code",
   "execution_count": null,
   "metadata": {},
   "outputs": [],
   "source": [
    "housing_na_dummies = pd.concat([housing_na, dummies], axis='columns')\n",
    "housing_clean = housing_na_dummies.drop(['ocean_proximity', 'ISLAND'], axis='columns')\n",
    "housing_clean.head()"
   ]
  },
  {
   "cell_type": "code",
   "execution_count": null,
   "metadata": {},
   "outputs": [],
   "source": [
    "X = housing_clean.drop(['median_house_value'], axis='columns')\n",
    "X.head()\n",
    "y = housing_clean['median_house_value']"
   ]
  },
  {
   "cell_type": "markdown",
   "metadata": {},
   "source": [
    "## 6. Train-Test Split\n",
    "Split the data into training and testing sets."
   ]
  },
  {
   "cell_type": "code",
   "execution_count": null,
   "metadata": {},
   "outputs": [],
   "source": [
    "from sklearn.model_selection import train_test_split\n",
    "X_train, X_test, y_train, y_test = train_test_split(X, y, \n",
    "                                                    test_size=0.2, \n",
    "                                                    random_state=1984)"
   ]
  },
  {
   "cell_type": "markdown",
   "metadata": {},
   "source": [
    "## 7. Train Linear Regression Model\n",
    "Fit a linear regression model using scikit-learn and evaluate its performance."
   ]
  },
  {
   "cell_type": "code",
   "execution_count": null,
   "metadata": {},
   "outputs": [],
   "source": [
    "from sklearn.linear_model import LinearRegression\n",
    "OLS = LinearRegression()\n",
    "OLS.fit(X_train, y_train)\n",
    "\n",
    "# Display the intercept and coefficients\n",
    "print(\"The intercept is \" + str(OLS.intercept_))\n",
    "print(\"The coefficients are \" + str(OLS.coef_))\n",
    "print(\"The R-squared value is \" + str(OLS.score(X_train, y_train)))"
   ]
  },
  {
   "cell_type": "code",
   "execution_count": null,
   "metadata": {},
   "outputs": [],
   "source": [
    "# Predicting with OLS\n",
    "y_pred = OLS.predict(X_test)\n",
    "performance = pd.DataFrame({'PREDICTIONS': y_pred, 'ACTUAL VALUES': y_test})\n",
    "performance['error'] = performance['ACTUAL VALUES'] - performance['PREDICTIONS']\n",
    "performance.head()"
   ]
  },
  {
   "cell_type": "markdown",
   "metadata": {},
   "source": [
    "## 8. Plot Residuals\n",
    "Visualize the residuals to assess model performance."
   ]
  },
  {
   "cell_type": "code",
   "execution_count": null,
   "metadata": {},
   "outputs": [],
   "source": [
    "performance.reset_index(drop=True, inplace=True) # in-place turns into a column\n",
    "performance.reset_index(inplace=True)\n",
    "fig = plt.figure(figsize=(10,5))\n",
    "plt.bar('index', 'error', data=performance[:50], color='black', width=0.3)\n",
    "plt.ylabel('residuals')\n",
    "plt.xlabel('observations')\n",
    "plt.show()"
   ]
  },
  {
   "cell_type": "markdown",
   "metadata": {},
   "source": [
    "## 9. OLS Model with Statsmodels\n",
    "Fit the OLS model using the statsmodels library and display the summary."
   ]
  },
  {
   "cell_type": "code",
   "execution_count": null,
   "metadata": {},
   "outputs": [],
   "source": [
    "import statsmodels.api as sm\n",
    "X_train = sm.add_constant(X_train)\n",
    "X_train.head()"
   ]
  },
  {
   "cell_type": "code",
   "execution_count": null,
   "metadata": {},
   "outputs": [],
   "source": [
    "bool_columns = ['<1H OCEAN', 'INLAND', 'NEAR BAY', 'NEAR OCEAN']\n",
    "for col in bool_columns:\n",
    "    X_train[col] = X_train[col].astype(int)"
   ]
  },
  {
   "cell_type": "code",
   "execution_count": null,
   "metadata": {},
   "outputs": [],
   "source": [
    "X_train_np = X_train.to_numpy()\n",
    "y_train_np = y_train.to_numpy()\n",
    "X_train_np = sm.add_constant(X_train_np)\n",
    "nicer_OLS = sm.OLS(y_train_np, X_train_np).fit()\n",
    "print(nicer_OLS.summary())"
   ]
  }
 ],
 "metadata": {
  "kernelspec": {
   "display_name": "Python 3",
   "language": "python",
   "name": "python3"
  },
  "language_info": {
   "codemirror_mode": {
    "name": "ipython",
    "version": 3
   },
   "file_extension": ".py",
   "mimetype": "text/x-python",
   "name": "python",
   "nbconvert_exporter": "python",
   "pygments_lexer": "ipython3",
   "version": "3.8.8"
  }
 },
 "nbformat": 4,
 "nbformat_minor": 5
}
